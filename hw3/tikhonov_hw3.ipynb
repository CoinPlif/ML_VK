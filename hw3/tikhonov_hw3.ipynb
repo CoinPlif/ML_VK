{
  "cells": [
    {
      "cell_type": "markdown",
      "metadata": {
        "id": "vmttsTLNp-Ev"
      },
      "source": [
        "### Машинное обучение\n",
        "## Домашнее задание №3 - Градиентный бустинг"
      ]
    },
    {
      "cell_type": "markdown",
      "metadata": {
        "id": "EauP12Alp-Ey"
      },
      "source": [
        "**Общая информация**\n",
        "\n",
        "**Срок сдачи:** 14 мая 2024, 23:59   \n",
        "**Штраф за опоздание:** -2 балла за каждые сутки\n",
        "\n",
        "Используйте данный Ipython Notebook при оформлении домашнего задания."
      ]
    },
    {
      "cell_type": "markdown",
      "metadata": {
        "id": "XtndJWkXp-E0"
      },
      "source": [
        "##  Считаем производные для функций потерь (1 балл)"
      ]
    },
    {
      "cell_type": "markdown",
      "metadata": {
        "id": "d1yXLtvop-E1"
      },
      "source": [
        "Мы будем реализовать градиентный бустинг для 3 функций потерь:\n",
        "\n",
        "1) MSE  $L(a(x_i), y_i) = (y_i - a(x_i)) ^ 2$\n",
        "\n",
        "2) Экспоненциальная  $L(a(x_i), y_i) = exp( -a(x_i) y_i), y_i \\in \\{-1, 1\\}$\n",
        "\n",
        "3) Логистическая  $L(a(x_i), y_i) = \\log (1 + exp( -a(x_i) y_i)), y_i \\in \\{-1, 1\\}$\n",
        "\n",
        "где $a(x_i)$ предсказание бустинга на итом объекте.\n",
        "\n",
        "Для каждой функции потерь напишите таргет, на который будет настраиваться каждое дерево в бустинге."
      ]
    },
    {
      "cell_type": "markdown",
      "metadata": {
        "id": "Q6EPTR_Bp-E2"
      },
      "source": [
        "Ваше решение тут"
      ]
    },
    {
      "cell_type": "markdown",
      "source": [
        "$y_{n+1} = y_n - \\lambda \\frac{∂L(a(x_i), y_i)}{∂a(x_i)}$\n",
        "\n",
        "1) $L(a(x_i), y_i) = (y_i - a(x_i))^2$\n",
        "\n",
        "$\\frac{∂L(a(x_i), y_i)}{∂a(x_i)} = \\frac{∂(y_i-a(x_i))^2}{∂a(x_i)} = -2(y_i - a(x_i))$\n",
        "\n",
        "2) $L(a(x_i), y_i) = e^{-a(x_i)y_i}$\n",
        "\n",
        "$\\frac{∂L(a(x_i), y_i)}{∂a(x_i)} = \\frac{∂e^{-a(x_i)y_i}}{a(x_i)} = -y_ie^{-a(x_i)y_i}$\n",
        "\n",
        "3) $L(a(x_i), y_i) = log(1+e^{-a(x_i)y_i}) = \\frac{-y_ie^{-a(x_i)y_i}}{1+e^{-a(x_i)y_i}}$"
      ],
      "metadata": {
        "id": "ALuDZmGisg9E"
      }
    },
    {
      "cell_type": "markdown",
      "metadata": {
        "id": "4fif1R1xp-E2"
      },
      "source": [
        "##  Реализуем градиентный бустинг (3 балла)"
      ]
    },
    {
      "cell_type": "markdown",
      "metadata": {
        "id": "V7Pbaj8-p-E3"
      },
      "source": [
        "Реализуйте класс градиентного бустинга для классификации. Ваша реализация бустинга должна работать по точности не более чем на 5 процентов хуже чем GradientBoostingClassifier из sklearn.\n"
      ]
    },
    {
      "cell_type": "markdown",
      "metadata": {
        "id": "K6P-geZ2p-E5"
      },
      "source": [
        "Детали реализации:\n",
        "\n",
        "-- должно поддерживаться 3 функции потерь\n",
        "\n",
        "-- сами базовые алгоритмы(деревья, линейные модели и тп) реализовать не надо, просто возьмите готовые из sklearn\n",
        "\n",
        "-- в качестве функции потерь для построения одного дерева используйте MSE\n",
        "\n",
        "-- шаг в бустинге можно не подбирать, можно брать константный\n",
        "\n",
        "-- можно брать разные модели в качестве инициализации бустинга\n",
        "\n",
        "-- должны поддерживаться следующие параметры:\n",
        "\n",
        "а) число итераций\n",
        "б) размер шага\n",
        "в) процент случайных фичей при построении одного дерева\n",
        "д) процент случайных объектов при построении одного дерева\n",
        "е) параметры базового алгоритма (передавайте через **kwargs)"
      ]
    },
    {
      "cell_type": "code",
      "execution_count": 621,
      "metadata": {
        "collapsed": true,
        "jupyter": {
          "outputs_hidden": true
        },
        "id": "0wT6C1Wgp-E6"
      },
      "outputs": [],
      "source": [
        "import numpy as np\n",
        "import pandas as pd\n",
        "import matplotlib.pyplot as plt\n",
        "\n",
        "from tqdm import tqdm\n",
        "\n",
        "from sklearn.datasets import load_wine\n",
        "from sklearn.ensemble import GradientBoostingClassifier\n",
        "from sklearn.metrics import accuracy_score\n",
        "from sklearn.model_selection import train_test_split\n",
        "from sklearn.tree import DecisionTreeRegressor\n",
        "from sklearn.linear_model import LogisticRegression"
      ]
    },
    {
      "cell_type": "code",
      "source": [
        "a = np.array([1,2,3,-1,1,1,1,2,3,1,1,1,1,1])\n",
        "\n",
        "pd.get_dummies(a).to_numpy()"
      ],
      "metadata": {
        "colab": {
          "base_uri": "https://localhost:8080/"
        },
        "id": "NStg-X6cAPjH",
        "outputId": "0005e588-ece1-4dee-8063-5cd8b6c68d09"
      },
      "execution_count": 622,
      "outputs": [
        {
          "output_type": "execute_result",
          "data": {
            "text/plain": [
              "array([[False,  True, False, False],\n",
              "       [False, False,  True, False],\n",
              "       [False, False, False,  True],\n",
              "       [ True, False, False, False],\n",
              "       [False,  True, False, False],\n",
              "       [False,  True, False, False],\n",
              "       [False,  True, False, False],\n",
              "       [False, False,  True, False],\n",
              "       [False, False, False,  True],\n",
              "       [False,  True, False, False],\n",
              "       [False,  True, False, False],\n",
              "       [False,  True, False, False],\n",
              "       [False,  True, False, False],\n",
              "       [False,  True, False, False]])"
            ]
          },
          "metadata": {},
          "execution_count": 622
        }
      ]
    },
    {
      "cell_type": "code",
      "source": [
        "from copy import copy, deepcopy"
      ],
      "metadata": {
        "id": "toG-vRVECI0e"
      },
      "execution_count": 623,
      "outputs": []
    },
    {
      "cell_type": "code",
      "execution_count": 624,
      "metadata": {
        "collapsed": true,
        "jupyter": {
          "outputs_hidden": true
        },
        "id": "UUxthh4Sp-E8"
      },
      "outputs": [],
      "source": [
        "class MyGradientBoostingClassifier:\n",
        "\n",
        "    def __init__(self, loss=\"EXP\", learning_rate=1, n_estimators=10, colsample=1, subsample=1, *args, **kwargs):\n",
        "        \"\"\"\n",
        "        loss -- один из 3 лоссов:\n",
        "        learning_rate -- шаг бустинга\n",
        "        n_estimators -- число итераций\n",
        "        colsample -- процент рандомных признаков при обучнеии одного алгоритма\n",
        "        subsample -- процент рандомных объектов при обучнеии одного алгоритма\n",
        "        args, kwargs -- параметры  базовых моделей\n",
        "        \"\"\"\n",
        "        self.loss = loss\n",
        "        self.learning_rate = learning_rate\n",
        "        self.n_estimators = n_estimators\n",
        "        self.colsample = colsample\n",
        "        self.subsample = subsample\n",
        "        self.kwargs = kwargs\n",
        "\n",
        "    def _softmax(self, predictions):\n",
        "        exp = np.exp(predictions)\n",
        "        return exp / np.sum(exp, axis=1, keepdims=True)\n",
        "\n",
        "    def _calc_grad(self, y, y_hat):\n",
        "        if self.loss == \"MSE\":\n",
        "            return (y - y_hat)\n",
        "        if self.loss == \"EXP\":\n",
        "            return y*np.exp(-y_hat*y)\n",
        "        if self.loss == \"LOG\":\n",
        "            return (y*np.exp(-y_hat*y))/(1+np.exp(-y_hat*y))\n",
        "\n",
        "    def to_ohe_numbers(self, X):\n",
        "        ohe_y = pd.get_dummies(X).to_numpy()\n",
        "        ohe_y_mask = ohe_y == True\n",
        "        res_y = np.zeros(ohe_y.shape)\n",
        "        res_y[ohe_y_mask] = 1\n",
        "        return res_y\n",
        "\n",
        "    def fit(self, X, y, base_model=DecisionTreeRegressor(), init_model=None):\n",
        "        \"\"\"\n",
        "        X -- объекты для обучения:\n",
        "        y -- таргеты для обучения\n",
        "        base_model -- класс базовых моделей, например sklearn.tree.DecisionTreeRegressor\n",
        "        init_model -- класс для первой модели, если None то берем константу (только для посл задания)\n",
        "        \"\"\"\n",
        "        self.K = len(np.unique(y))\n",
        "        self.models = {k: [] for k in range(self.K)}\n",
        "        self.init_model = []\n",
        "\n",
        "        self.object_indices = np.random.choice(X.shape[0], int((X.shape[0])*self.subsample), replace = False)\n",
        "        self.feature_indices = np.random.choice(X.shape[1], int((X.shape[1])*self.colsample), replace = False)\n",
        "        X = X[self.object_indices][:, self.feature_indices]\n",
        "        y = y[self.object_indices]\n",
        "\n",
        "        ohe_y = self.to_ohe_numbers(y)\n",
        "\n",
        "        predictions = np.zeros(ohe_y.shape)\n",
        "        probabilities = self._softmax(predictions)\n",
        "\n",
        "        if init_model is not None:\n",
        "            init_estimator = deepcopy(init_model)\n",
        "            init_estimator.fit(X, y)\n",
        "            pred = init_estimator.predict(X)\n",
        "            self.init_model.append(init_estimator)\n",
        "            predictions = self.to_ohe_numbers(pred)\n",
        "\n",
        "        for i in range(self.n_estimators):\n",
        "            probabilities = self._softmax(predictions)\n",
        "            for k in range(self.K):\n",
        "                ant_grad = self._calc_grad(ohe_y[:, k], probabilities[:, k])\n",
        "                base_estimator = deepcopy(base_model)\n",
        "                base_estimator = base_estimator.set_params(**self.kwargs)\n",
        "                base_estimator.fit(X, ant_grad)\n",
        "                self.models[k].append(base_estimator)\n",
        "                predictions[:, k] += self.learning_rate*base_estimator.predict(X)\n",
        "\n",
        "\n",
        "    def predict(self, X):\n",
        "        if len(self.init_model) != 0:\n",
        "            #print(X.shape, type(X))\n",
        "            init_pred = self.init_model[0].predict(X[:, self.feature_indices])\n",
        "            init_pred\n",
        "            pred = self.to_ohe_numbers(init_pred)\n",
        "\n",
        "        else:\n",
        "            pred = np.zeros((X.shape[0], self.K))\n",
        "\n",
        "        for i in range(self.n_estimators):\n",
        "            for k in range(len(self.models)):\n",
        "                #print(self.models[k][i].predict(X), self.models[k][i].predict(X).shape)\n",
        "                pred[:, k] += self.learning_rate*self.models[k][i].predict(X[:, self.feature_indices])\n",
        "        return np.argmax(pred, axis=1)\n"
      ]
    },
    {
      "cell_type": "code",
      "execution_count": 625,
      "metadata": {
        "id": "Ly-moarhp-E9"
      },
      "outputs": [],
      "source": [
        "my_clf = MyGradientBoostingClassifier(max_depth=3)\n",
        "clf = GradientBoostingClassifier()"
      ]
    },
    {
      "cell_type": "code",
      "execution_count": 626,
      "metadata": {
        "collapsed": true,
        "jupyter": {
          "outputs_hidden": true
        },
        "id": "sr77PYOJp-E-"
      },
      "outputs": [],
      "source": [
        "wine = load_wine()\n",
        "X_train, X_test, y_train, y_test = train_test_split(wine.data, wine.target, test_size=0.1, stratify=wine.target, random_state = 42)"
      ]
    },
    {
      "cell_type": "code",
      "source": [
        "my_clf.fit(X_train, y_train)\n",
        "clf.fit(X_train, y_train)"
      ],
      "metadata": {
        "colab": {
          "base_uri": "https://localhost:8080/",
          "height": 74
        },
        "id": "AO-P4yEqyriT",
        "outputId": "3dc0b7ed-277b-408a-d712-a9e73e8e49f2"
      },
      "execution_count": 627,
      "outputs": [
        {
          "output_type": "execute_result",
          "data": {
            "text/plain": [
              "GradientBoostingClassifier()"
            ],
            "text/html": [
              "<style>#sk-container-id-73 {color: black;background-color: white;}#sk-container-id-73 pre{padding: 0;}#sk-container-id-73 div.sk-toggleable {background-color: white;}#sk-container-id-73 label.sk-toggleable__label {cursor: pointer;display: block;width: 100%;margin-bottom: 0;padding: 0.3em;box-sizing: border-box;text-align: center;}#sk-container-id-73 label.sk-toggleable__label-arrow:before {content: \"▸\";float: left;margin-right: 0.25em;color: #696969;}#sk-container-id-73 label.sk-toggleable__label-arrow:hover:before {color: black;}#sk-container-id-73 div.sk-estimator:hover label.sk-toggleable__label-arrow:before {color: black;}#sk-container-id-73 div.sk-toggleable__content {max-height: 0;max-width: 0;overflow: hidden;text-align: left;background-color: #f0f8ff;}#sk-container-id-73 div.sk-toggleable__content pre {margin: 0.2em;color: black;border-radius: 0.25em;background-color: #f0f8ff;}#sk-container-id-73 input.sk-toggleable__control:checked~div.sk-toggleable__content {max-height: 200px;max-width: 100%;overflow: auto;}#sk-container-id-73 input.sk-toggleable__control:checked~label.sk-toggleable__label-arrow:before {content: \"▾\";}#sk-container-id-73 div.sk-estimator input.sk-toggleable__control:checked~label.sk-toggleable__label {background-color: #d4ebff;}#sk-container-id-73 div.sk-label input.sk-toggleable__control:checked~label.sk-toggleable__label {background-color: #d4ebff;}#sk-container-id-73 input.sk-hidden--visually {border: 0;clip: rect(1px 1px 1px 1px);clip: rect(1px, 1px, 1px, 1px);height: 1px;margin: -1px;overflow: hidden;padding: 0;position: absolute;width: 1px;}#sk-container-id-73 div.sk-estimator {font-family: monospace;background-color: #f0f8ff;border: 1px dotted black;border-radius: 0.25em;box-sizing: border-box;margin-bottom: 0.5em;}#sk-container-id-73 div.sk-estimator:hover {background-color: #d4ebff;}#sk-container-id-73 div.sk-parallel-item::after {content: \"\";width: 100%;border-bottom: 1px solid gray;flex-grow: 1;}#sk-container-id-73 div.sk-label:hover label.sk-toggleable__label {background-color: #d4ebff;}#sk-container-id-73 div.sk-serial::before {content: \"\";position: absolute;border-left: 1px solid gray;box-sizing: border-box;top: 0;bottom: 0;left: 50%;z-index: 0;}#sk-container-id-73 div.sk-serial {display: flex;flex-direction: column;align-items: center;background-color: white;padding-right: 0.2em;padding-left: 0.2em;position: relative;}#sk-container-id-73 div.sk-item {position: relative;z-index: 1;}#sk-container-id-73 div.sk-parallel {display: flex;align-items: stretch;justify-content: center;background-color: white;position: relative;}#sk-container-id-73 div.sk-item::before, #sk-container-id-73 div.sk-parallel-item::before {content: \"\";position: absolute;border-left: 1px solid gray;box-sizing: border-box;top: 0;bottom: 0;left: 50%;z-index: -1;}#sk-container-id-73 div.sk-parallel-item {display: flex;flex-direction: column;z-index: 1;position: relative;background-color: white;}#sk-container-id-73 div.sk-parallel-item:first-child::after {align-self: flex-end;width: 50%;}#sk-container-id-73 div.sk-parallel-item:last-child::after {align-self: flex-start;width: 50%;}#sk-container-id-73 div.sk-parallel-item:only-child::after {width: 0;}#sk-container-id-73 div.sk-dashed-wrapped {border: 1px dashed gray;margin: 0 0.4em 0.5em 0.4em;box-sizing: border-box;padding-bottom: 0.4em;background-color: white;}#sk-container-id-73 div.sk-label label {font-family: monospace;font-weight: bold;display: inline-block;line-height: 1.2em;}#sk-container-id-73 div.sk-label-container {text-align: center;}#sk-container-id-73 div.sk-container {/* jupyter's `normalize.less` sets `[hidden] { display: none; }` but bootstrap.min.css set `[hidden] { display: none !important; }` so we also need the `!important` here to be able to override the default hidden behavior on the sphinx rendered scikit-learn.org. See: https://github.com/scikit-learn/scikit-learn/issues/21755 */display: inline-block !important;position: relative;}#sk-container-id-73 div.sk-text-repr-fallback {display: none;}</style><div id=\"sk-container-id-73\" class=\"sk-top-container\"><div class=\"sk-text-repr-fallback\"><pre>GradientBoostingClassifier()</pre><b>In a Jupyter environment, please rerun this cell to show the HTML representation or trust the notebook. <br />On GitHub, the HTML representation is unable to render, please try loading this page with nbviewer.org.</b></div><div class=\"sk-container\" hidden><div class=\"sk-item\"><div class=\"sk-estimator sk-toggleable\"><input class=\"sk-toggleable__control sk-hidden--visually\" id=\"sk-estimator-id-73\" type=\"checkbox\" checked><label for=\"sk-estimator-id-73\" class=\"sk-toggleable__label sk-toggleable__label-arrow\">GradientBoostingClassifier</label><div class=\"sk-toggleable__content\"><pre>GradientBoostingClassifier()</pre></div></div></div></div></div>"
            ]
          },
          "metadata": {},
          "execution_count": 627
        }
      ]
    },
    {
      "cell_type": "code",
      "execution_count": 628,
      "metadata": {
        "id": "84HDGmfSp-E_",
        "colab": {
          "base_uri": "https://localhost:8080/"
        },
        "outputId": "fc99694e-ab78-45fa-da4d-23858e80b8ba"
      },
      "outputs": [
        {
          "output_type": "stream",
          "name": "stdout",
          "text": [
            "0.9444444444444444\n",
            "0.9444444444444444\n"
          ]
        }
      ],
      "source": [
        "print(accuracy_score(y_pred=clf.predict(X_test), y_true=y_test))\n",
        "print(accuracy_score(y_pred=my_clf.predict(X_test), y_true=y_test))"
      ]
    },
    {
      "cell_type": "markdown",
      "metadata": {
        "id": "32HaldGHp-E_"
      },
      "source": [
        "## Подбираем параметры (2 балла)\n",
        "\n",
        "Давайте попробуем применить Ваш бустинг для предсказаний цены домов в Калифорнии. Чтобы можно было попробовтаь разные функции потерь, переведем по порогу таргет в 2 класса: дорогие и дешевые дома."
      ]
    },
    {
      "cell_type": "markdown",
      "metadata": {
        "id": "KAjrN--bp-FA"
      },
      "source": [
        "В задании нужно\n",
        "\n",
        "1) Построить график точности в зависимости от числа итераций на валидации.\n",
        "\n",
        "2) Подобрать оптимальные параметры Вашего бустинга на валидации.\n"
      ]
    },
    {
      "cell_type": "code",
      "execution_count": 629,
      "metadata": {
        "id": "Hc5hby-Rp-FA"
      },
      "outputs": [],
      "source": [
        "from sklearn.datasets import fetch_california_housing\n",
        "X, y = fetch_california_housing(return_X_y=True)"
      ]
    },
    {
      "cell_type": "code",
      "execution_count": 630,
      "metadata": {
        "id": "TvcWocHtp-FA",
        "outputId": "b578449e-b53a-4b9e-ad52-6f5ce8b58150",
        "colab": {
          "base_uri": "https://localhost:8080/"
        }
      },
      "outputs": [
        {
          "output_type": "stream",
          "name": "stdout",
          "text": [
            "(20640, 8) (20640,)\n"
          ]
        }
      ],
      "source": [
        "# Превращаем регрессию в классификацию\n",
        "y = (y > 2.0).astype(int)\n",
        "print(X.shape, y.shape)"
      ]
    },
    {
      "cell_type": "code",
      "source": [
        "y[y == 0] = -1\n",
        "y"
      ],
      "metadata": {
        "colab": {
          "base_uri": "https://localhost:8080/"
        },
        "id": "cCN_6qoAFIzV",
        "outputId": "06caa10a-44c5-4ec5-fd27-87b1dff5980a"
      },
      "execution_count": 631,
      "outputs": [
        {
          "output_type": "execute_result",
          "data": {
            "text/plain": [
              "array([ 1,  1,  1, ..., -1, -1, -1])"
            ]
          },
          "metadata": {},
          "execution_count": 631
        }
      ]
    },
    {
      "cell_type": "code",
      "execution_count": 632,
      "metadata": {
        "collapsed": true,
        "jupyter": {
          "outputs_hidden": true
        },
        "id": "xr6cEeW1p-FB"
      },
      "outputs": [],
      "source": [
        "X_train, X_val, y_train, y_val = train_test_split(X, y, test_size = 0.3)"
      ]
    },
    {
      "cell_type": "code",
      "execution_count": 633,
      "metadata": {
        "collapsed": true,
        "jupyter": {
          "outputs_hidden": true
        },
        "id": "IxuVXyakp-FC"
      },
      "outputs": [],
      "source": [
        "myclf = MyGradientBoostingClassifier(loss = \"MSE\")\n",
        "myclf.fit(X_train, y_train)"
      ]
    },
    {
      "cell_type": "code",
      "source": [
        "y_pred = myclf.predict(X_val)\n",
        "y_pred[y_pred == 0] = -1\n",
        "y_pred"
      ],
      "metadata": {
        "colab": {
          "base_uri": "https://localhost:8080/"
        },
        "id": "p5FD_oveF2Zu",
        "outputId": "beb99200-b6bd-42b4-bb3c-64d6a8cc1fca"
      },
      "execution_count": 634,
      "outputs": [
        {
          "output_type": "execute_result",
          "data": {
            "text/plain": [
              "array([ 1, -1,  1, ..., -1,  1, -1])"
            ]
          },
          "metadata": {},
          "execution_count": 634
        }
      ]
    },
    {
      "cell_type": "code",
      "source": [
        "y_val"
      ],
      "metadata": {
        "colab": {
          "base_uri": "https://localhost:8080/"
        },
        "id": "F5MbqNBQGy6c",
        "outputId": "1aa9478d-e919-4dfe-e019-3068668a097b"
      },
      "execution_count": 635,
      "outputs": [
        {
          "output_type": "execute_result",
          "data": {
            "text/plain": [
              "array([ 1, -1, -1, ..., -1, -1, -1])"
            ]
          },
          "metadata": {},
          "execution_count": 635
        }
      ]
    },
    {
      "cell_type": "code",
      "source": [
        "accuracy_score(y_val, y_pred)"
      ],
      "metadata": {
        "colab": {
          "base_uri": "https://localhost:8080/"
        },
        "id": "YBWqh1KzHSWo",
        "outputId": "d2c38a25-6147-4a40-cc4b-567d801633e0"
      },
      "execution_count": 636,
      "outputs": [
        {
          "output_type": "execute_result",
          "data": {
            "text/plain": [
              "0.8460917312661499"
            ]
          },
          "metadata": {},
          "execution_count": 636
        }
      ]
    },
    {
      "cell_type": "code",
      "source": [
        "accuracy_list = []\n",
        "best_accuracy = 0\n",
        "best_n_estimators = 0\n",
        "\n",
        "for iterations in tqdm(range(1, 30)):\n",
        "    myclf = MyGradientBoostingClassifier(loss = \"MSE\", n_estimators=iterations)\n",
        "    myclf.fit(X_train, y_train)\n",
        "    y_pred = myclf.predict(X_val)\n",
        "    y_pred[y_pred == 0] = -1\n",
        "    accuracy_list.append(accuracy_score(y_val, y_pred))\n",
        "    if (best_accuracy<accuracy_list[-1]):\n",
        "        best_accuracy = accuracy_list[-1]\n",
        "        best_n_estimators = iterations"
      ],
      "metadata": {
        "colab": {
          "base_uri": "https://localhost:8080/"
        },
        "id": "Gph1fIaQOMMg",
        "outputId": "66a514dd-b3f2-4e3c-f807-eee50febb350"
      },
      "execution_count": 637,
      "outputs": [
        {
          "output_type": "stream",
          "name": "stderr",
          "text": [
            "100%|██████████| 29/29 [02:04<00:00,  4.30s/it]\n"
          ]
        }
      ]
    },
    {
      "cell_type": "code",
      "source": [
        "plt.plot(range(1,30), accuracy_list)\n",
        "plt.xlabel(\"Количество итераций\")\n",
        "plt.ylabel(\"Accuracy score\")\n",
        "plt.grid()"
      ],
      "metadata": {
        "colab": {
          "base_uri": "https://localhost:8080/",
          "height": 449
        },
        "id": "Opg6y7oZPcCa",
        "outputId": "7851fdbf-3e01-42eb-91be-928f7f38f9dc"
      },
      "execution_count": 638,
      "outputs": [
        {
          "output_type": "display_data",
          "data": {
            "text/plain": [
              "<Figure size 640x480 with 1 Axes>"
            ],
            "image/png": "[encoded data removed]"
          },
          "metadata": {}
        }
      ]
    },
    {
      "cell_type": "code",
      "source": [
        "accuracy_list = []\n",
        "best_accuracy = 0\n",
        "best_params = {\"max_depth\":0, \"loss\":0, \"min_samples_split\":0}\n",
        "\n",
        "for loss in tqdm(['MSE','EXP','LOG']):\n",
        "    for max_depth in range(3, 5):\n",
        "        for min_samples_split in range(3, 7):\n",
        "            myclf = MyGradientBoostingClassifier(loss = loss, n_estimators=best_n_estimators, max_depth = max_depth, min_samples_split = min_samples_split)\n",
        "            myclf.fit(X_train, y_train)\n",
        "            y_pred = myclf.predict(X_val)\n",
        "            y_pred[y_pred == 0] = -1\n",
        "            accuracy_list.append(accuracy_score(y_val, y_pred))\n",
        "            if (best_accuracy<accuracy_list[-1]):\n",
        "                best_accuracy = accuracy_list[-1]\n",
        "                best_params[\"max_depth\"] = max_depth\n",
        "                best_params[\"loss\"] = loss\n",
        "                best_params[\"min_samples_split\"] = min_samples_split"
      ],
      "metadata": {
        "colab": {
          "base_uri": "https://localhost:8080/"
        },
        "id": "Az5uU4flT-Mi",
        "outputId": "d8debebe-c5a1-4d1e-c730-8b2b117668a0"
      },
      "execution_count": 639,
      "outputs": [
        {
          "output_type": "stream",
          "name": "stderr",
          "text": [
            "100%|██████████| 3/3 [00:58<00:00, 19.46s/it]\n"
          ]
        }
      ]
    },
    {
      "cell_type": "code",
      "source": [
        "best_params, best_accuracy"
      ],
      "metadata": {
        "colab": {
          "base_uri": "https://localhost:8080/"
        },
        "id": "AXPcQloPZiu2",
        "outputId": "dbe31e9f-e7a7-4c25-9409-33888130172a"
      },
      "execution_count": 640,
      "outputs": [
        {
          "output_type": "execute_result",
          "data": {
            "text/plain": [
              "({'max_depth': 4, 'loss': 'MSE', 'min_samples_split': 3}, 0.8842054263565892)"
            ]
          },
          "metadata": {},
          "execution_count": 640
        }
      ]
    },
    {
      "cell_type": "markdown",
      "metadata": {
        "id": "5ZUcdp-gp-FC"
      },
      "source": [
        "## BooBag BagBoo (1 балл)\n",
        "\n"
      ]
    },
    {
      "cell_type": "markdown",
      "metadata": {
        "id": "4gUK5gBlp-FC"
      },
      "source": [
        "Попробуем объединить бустинг и бэгинг. Давайте\n",
        "\n",
        "1) в качестве базовой модели брать не дерево решений, а случайный лес (из sklearn)\n",
        "\n",
        "2) обучать N бустингов на бустрапированной выборке, а затем предикт усреднять"
      ]
    },
    {
      "cell_type": "markdown",
      "metadata": {
        "id": "23KrhU2Bp-FD"
      },
      "source": [
        "Попробуйте обе этих стратегии на данных из прошлого задания. Получилось ли улучшить качество? Почему?"
      ]
    },
    {
      "cell_type": "markdown",
      "source": [
        "**Boosting on RandomForest**"
      ],
      "metadata": {
        "id": "M6fFDozmbKdt"
      }
    },
    {
      "cell_type": "code",
      "source": [
        "from sklearn.ensemble import RandomForestRegressor"
      ],
      "metadata": {
        "id": "eGuDgT20cPqF"
      },
      "execution_count": 641,
      "outputs": []
    },
    {
      "cell_type": "code",
      "execution_count": 642,
      "metadata": {
        "collapsed": true,
        "jupyter": {
          "outputs_hidden": true
        },
        "id": "_TtRDRfOp-FD"
      },
      "outputs": [],
      "source": [
        "boobag = MyGradientBoostingClassifier()\n",
        "boobag.fit(X_train, y_train, base_model = RandomForestRegressor())"
      ]
    },
    {
      "cell_type": "code",
      "source": [
        "y_train"
      ],
      "metadata": {
        "colab": {
          "base_uri": "https://localhost:8080/"
        },
        "id": "XcngBC0ydUSE",
        "outputId": "59018dd6-9583-4525-a462-cc7a75897361"
      },
      "execution_count": 643,
      "outputs": [
        {
          "output_type": "execute_result",
          "data": {
            "text/plain": [
              "array([-1,  1, -1, ..., -1, -1, -1])"
            ]
          },
          "metadata": {},
          "execution_count": 643
        }
      ]
    },
    {
      "cell_type": "code",
      "source": [
        "y_val"
      ],
      "metadata": {
        "colab": {
          "base_uri": "https://localhost:8080/"
        },
        "id": "qhG6LkrZc5hQ",
        "outputId": "2f8c9ca2-1138-4ded-e27a-6f1d29677d6e"
      },
      "execution_count": 644,
      "outputs": [
        {
          "output_type": "execute_result",
          "data": {
            "text/plain": [
              "array([ 1, -1, -1, ..., -1, -1, -1])"
            ]
          },
          "metadata": {},
          "execution_count": 644
        }
      ]
    },
    {
      "cell_type": "code",
      "execution_count": 645,
      "metadata": {
        "collapsed": true,
        "jupyter": {
          "outputs_hidden": true
        },
        "id": "H50rXHxqp-FD",
        "colab": {
          "base_uri": "https://localhost:8080/"
        },
        "outputId": "34a87829-c916-4a73-f628-bc78f36e0622"
      },
      "outputs": [
        {
          "output_type": "execute_result",
          "data": {
            "text/plain": [
              "array([ 1, -1,  1, ..., -1,  1, -1])"
            ]
          },
          "metadata": {},
          "execution_count": 645
        }
      ],
      "source": [
        "y_pred_boobag = boobag.predict(X_val)\n",
        "y_pred_boobag[y_pred_boobag == 0] = -1\n",
        "y_pred_boobag"
      ]
    },
    {
      "cell_type": "code",
      "source": [
        "accuracy_score(y_val, y_pred_boobag)"
      ],
      "metadata": {
        "colab": {
          "base_uri": "https://localhost:8080/"
        },
        "id": "jfaRv-6SeTlt",
        "outputId": "2dd527cb-5195-4bd2-e76b-ad35448274cd"
      },
      "execution_count": 646,
      "outputs": [
        {
          "output_type": "execute_result",
          "data": {
            "text/plain": [
              "0.8929263565891473"
            ]
          },
          "metadata": {},
          "execution_count": 646
        }
      ]
    },
    {
      "cell_type": "markdown",
      "source": [
        "Обычные деревья маленькой глубины обладают маленьким малеким разбросом и большим смещением - бустинг уменьшает смещение, за счет исправления ошибки композиции предыдущих моделей. Однако, когда строим бустинг на моделях, у которых маленький и смещение и разброс, почти никакого прироста в скоре нет."
      ],
      "metadata": {
        "id": "TU9QSejHeq6N"
      }
    },
    {
      "cell_type": "markdown",
      "source": [
        "**Ensemble on Boostings**"
      ],
      "metadata": {
        "id": "Tp6YUaWUi4uV"
      }
    },
    {
      "cell_type": "code",
      "source": [
        "y_pred_list = []\n",
        "\n",
        "for boostings_idx in range(10):\n",
        "    boosting = MyGradientBoostingClassifier(subsample = 1, colsample=1)\n",
        "    boosting.fit(X_train, y_train)\n",
        "    y_pred_list.append(boosting.predict(X_val))\n",
        "\n",
        "y_pred_list = np.array(y_pred_list)"
      ],
      "metadata": {
        "id": "1WLFN9mTjLR0"
      },
      "execution_count": 647,
      "outputs": []
    },
    {
      "cell_type": "code",
      "source": [
        "y_pred_list"
      ],
      "metadata": {
        "colab": {
          "base_uri": "https://localhost:8080/"
        },
        "id": "ibga-v9nqj63",
        "outputId": "c557b766-8f0a-4bc9-85d7-3ea5d8c000d8"
      },
      "execution_count": 648,
      "outputs": [
        {
          "output_type": "execute_result",
          "data": {
            "text/plain": [
              "array([[1, 0, 1, ..., 0, 1, 0],\n",
              "       [1, 0, 1, ..., 0, 1, 0],\n",
              "       [1, 0, 1, ..., 0, 1, 0],\n",
              "       ...,\n",
              "       [1, 0, 1, ..., 0, 1, 0],\n",
              "       [1, 0, 1, ..., 0, 1, 0],\n",
              "       [1, 0, 1, ..., 0, 1, 0]])"
            ]
          },
          "metadata": {},
          "execution_count": 648
        }
      ]
    },
    {
      "cell_type": "code",
      "source": [
        "def Ensemble(x):\n",
        "    vals, counts = np.unique(x, return_counts=True)\n",
        "    return vals[np.argmax(counts)]"
      ],
      "metadata": {
        "id": "n6PtJGGQr9fu"
      },
      "execution_count": 649,
      "outputs": []
    },
    {
      "cell_type": "code",
      "source": [
        "y_pred_bagboo = np.array(list(map(Ensemble, y_pred_list.T)))\n",
        "y_pred_bagboo[y_pred_bagboo == 0] = -1"
      ],
      "metadata": {
        "id": "up4YVbsmrFHQ"
      },
      "execution_count": 650,
      "outputs": []
    },
    {
      "cell_type": "code",
      "source": [
        "accuracy_score(y_val, y_pred_bagboo)"
      ],
      "metadata": {
        "colab": {
          "base_uri": "https://localhost:8080/"
        },
        "id": "ZxSvlIfKtKh1",
        "outputId": "33063d6b-bc32-4d57-8179-be23b47e7609"
      },
      "execution_count": 651,
      "outputs": [
        {
          "output_type": "execute_result",
          "data": {
            "text/plain": [
              "0.8417312661498708"
            ]
          },
          "metadata": {},
          "execution_count": 651
        }
      ]
    },
    {
      "cell_type": "markdown",
      "source": [
        "Ансамбль бустингов должен уменьшать разброс, который и так будет маленький, потому в бустинге он уменьшается за счет последовательного исправления ошибок предыдущих моделей. То есть величина, которую хотелось бы уменьшать с помощью ансамбля и так уже маленькая => значительного изменения в скоре нет по сравнению с обычным бустингом на деревьях(одним)"
      ],
      "metadata": {
        "id": "-mywNlt6uLYH"
      }
    },
    {
      "cell_type": "markdown",
      "metadata": {
        "collapsed": true,
        "jupyter": {
          "outputs_hidden": true
        },
        "id": "K4Z0AX5vp-FD"
      },
      "source": [
        "## Умная инициализация (1 балл)\n",
        "\n",
        "Попробуйте брать в качестве инициализации бустинга не константу, а какой-то алгоритм и уже от его предикта стартовать итерации бустинга. Попробуйте разные модели из sklearn: линейные модели, рандом форест, svm..\n",
        "\n",
        "Получилось ли улучшить качество? Почему?\n",
        "\n"
      ]
    },
    {
      "cell_type": "code",
      "source": [
        "from sklearn.linear_model import LinearRegression\n",
        "from sklearn.ensemble import RandomForestClassifier\n",
        "from sklearn.svm import SVC"
      ],
      "metadata": {
        "id": "7UppzAjt9RTK"
      },
      "execution_count": 652,
      "outputs": []
    },
    {
      "cell_type": "code",
      "execution_count": 653,
      "metadata": {
        "collapsed": true,
        "jupyter": {
          "outputs_hidden": true
        },
        "id": "eKlvdbDep-FE"
      },
      "outputs": [],
      "source": [
        "df = pd.DataFrame(index = [\"LogReg\", \"RFC\", \"SVM\"], columns = [\"Accuracy\"])"
      ]
    },
    {
      "cell_type": "code",
      "execution_count": 654,
      "metadata": {
        "collapsed": true,
        "jupyter": {
          "outputs_hidden": true
        },
        "id": "x39FjYiyp-FE",
        "colab": {
          "base_uri": "https://localhost:8080/"
        },
        "outputId": "c62e4046-69af-470c-d2e3-ba5ae821f6bc"
      },
      "outputs": [
        {
          "output_type": "stream",
          "name": "stderr",
          "text": [
            "/usr/local/lib/python3.10/dist-packages/sklearn/linear_model/_logistic.py:458: ConvergenceWarning: lbfgs failed to converge (status=1):\n",
            "STOP: TOTAL NO. of ITERATIONS REACHED LIMIT.\n",
            "\n",
            "Increase the number of iterations (max_iter) or scale the data as shown in:\n",
            "    https://scikit-learn.org/stable/modules/preprocessing.html\n",
            "Please also refer to the documentation for alternative solver options:\n",
            "    https://scikit-learn.org/stable/modules/linear_model.html#logistic-regression\n",
            "  n_iter_i = _check_optimize_result(\n"
          ]
        }
      ],
      "source": [
        "models = [LogisticRegression(), RandomForestClassifier(max_depth=5, random_state=0), SVC(gamma='auto')]\n",
        "names = [\"LogReg\", \"RFC\", \"SVM\"]\n",
        "\n",
        "for i in range(len(models)):\n",
        "    clf_with_init_model = MyGradientBoostingClassifier()\n",
        "    clf_with_init_model.fit(X_train, y_train, init_model = models[i])\n",
        "    y_pred = clf_with_init_model.predict(X_val)\n",
        "    y_pred[y_pred == 0] = -1\n",
        "    df.loc[names[i]] = accuracy_score(y_val, y_pred)"
      ]
    },
    {
      "cell_type": "code",
      "source": [
        "df"
      ],
      "metadata": {
        "colab": {
          "base_uri": "https://localhost:8080/",
          "height": 143
        },
        "id": "xffksVQE90-c",
        "outputId": "ff265491-feab-482c-92fa-f8d85ae36927"
      },
      "execution_count": 655,
      "outputs": [
        {
          "output_type": "execute_result",
          "data": {
            "text/plain": [
              "        Accuracy\n",
              "LogReg   0.87064\n",
              "RFC     0.866279\n",
              "SVM     0.852067"
            ],
            "text/html": [
              "\n",
              "  <div id=\"df-f4c09e7b-ea9f-43b3-acaa-5b1203b1c987\" class=\"colab-df-container\">\n",
              "    <div>\n",
              "<style scoped>\n",
              "    .dataframe tbody tr th:only-of-type {\n",
              "        vertical-align: middle;\n",
              "    }\n",
              "\n",
              "    .dataframe tbody tr th {\n",
              "        vertical-align: top;\n",
              "    }\n",
              "\n",
              "    .dataframe thead th {\n",
              "        text-align: right;\n",
              "    }\n",
              "</style>\n",
              "<table border=\"1\" class=\"dataframe\">\n",
              "  <thead>\n",
              "    <tr style=\"text-align: right;\">\n",
              "      <th></th>\n",
              "      <th>Accuracy</th>\n",
              "    </tr>\n",
              "  </thead>\n",
              "  <tbody>\n",
              "    <tr>\n",
              "      <th>LogReg</th>\n",
              "      <td>0.87064</td>\n",
              "    </tr>\n",
              "    <tr>\n",
              "      <th>RFC</th>\n",
              "      <td>0.866279</td>\n",
              "    </tr>\n",
              "    <tr>\n",
              "      <th>SVM</th>\n",
              "      <td>0.852067</td>\n",
              "    </tr>\n",
              "  </tbody>\n",
              "</table>\n",
              "</div>\n",
              "    <div class=\"colab-df-buttons\">\n",
              "\n",
              "  <div class=\"colab-df-container\">\n",
              "    <button class=\"colab-df-convert\" onclick=\"convertToInteractive('df-f4c09e7b-ea9f-43b3-acaa-5b1203b1c987')\"\n",
              "            title=\"Convert this dataframe to an interactive table.\"\n",
              "            style=\"display:none;\">\n",
              "\n",
              "  <svg xmlns=\"http://www.w3.org/2000/svg\" height=\"24px\" viewBox=\"0 -960 960 960\">\n",
              "    <path d=\"M120-120v-720h720v720H120Zm60-500h600v-160H180v160Zm220 220h160v-160H400v160Zm0 220h160v-160H400v160ZM180-400h160v-160H180v160Zm440 0h160v-160H620v160ZM180-180h160v-160H180v160Zm440 0h160v-160H620v160Z\"/>\n",
              "  </svg>\n",
              "    </button>\n",
              "\n",
              "  <style>\n",
              "    .colab-df-container {\n",
              "      display:flex;\n",
              "      gap: 12px;\n",
              "    }\n",
              "\n",
              "    .colab-df-convert {\n",
              "      background-color: #E8F0FE;\n",
              "      border: none;\n",
              "      border-radius: 50%;\n",
              "      cursor: pointer;\n",
              "      display: none;\n",
              "      fill: #1967D2;\n",
              "      height: 32px;\n",
              "      padding: 0 0 0 0;\n",
              "      width: 32px;\n",
              "    }\n",
              "\n",
              "    .colab-df-convert:hover {\n",
              "      background-color: #E2EBFA;\n",
              "      box-shadow: 0px 1px 2px rgba(60, 64, 67, 0.3), 0px 1px 3px 1px rgba(60, 64, 67, 0.15);\n",
              "      fill: #174EA6;\n",
              "    }\n",
              "\n",
              "    .colab-df-buttons div {\n",
              "      margin-bottom: 4px;\n",
              "    }\n",
              "\n",
              "    [theme=dark] .colab-df-convert {\n",
              "      background-color: #3B4455;\n",
              "      fill: #D2E3FC;\n",
              "    }\n",
              "\n",
              "    [theme=dark] .colab-df-convert:hover {\n",
              "      background-color: #434B5C;\n",
              "      box-shadow: 0px 1px 3px 1px rgba(0, 0, 0, 0.15);\n",
              "      filter: drop-shadow(0px 1px 2px rgba(0, 0, 0, 0.3));\n",
              "      fill: #FFFFFF;\n",
              "    }\n",
              "  </style>\n",
              "\n",
              "    <script>\n",
              "      const buttonEl =\n",
              "        document.querySelector('#df-f4c09e7b-ea9f-43b3-acaa-5b1203b1c987 button.colab-df-convert');\n",
              "      buttonEl.style.display =\n",
              "        google.colab.kernel.accessAllowed ? 'block' : 'none';\n",
              "\n",
              "      async function convertToInteractive(key) {\n",
              "        const element = document.querySelector('#df-f4c09e7b-ea9f-43b3-acaa-5b1203b1c987');\n",
              "        const dataTable =\n",
              "          await google.colab.kernel.invokeFunction('convertToInteractive',\n",
              "                                                    [key], {});\n",
              "        if (!dataTable) return;\n",
              "\n",
              "        const docLinkHtml = 'Like what you see? Visit the ' +\n",
              "          '<a target=\"_blank\" href=https://colab.research.google.com/notebooks/data_table.ipynb>data table notebook</a>'\n",
              "          + ' to learn more about interactive tables.';\n",
              "        element.innerHTML = '';\n",
              "        dataTable['output_type'] = 'display_data';\n",
              "        await google.colab.output.renderOutput(dataTable, element);\n",
              "        const docLink = document.createElement('div');\n",
              "        docLink.innerHTML = docLinkHtml;\n",
              "        element.appendChild(docLink);\n",
              "      }\n",
              "    </script>\n",
              "  </div>\n",
              "\n",
              "\n",
              "<div id=\"df-ca7d7993-a84e-46cc-9a0a-640a02b7935e\">\n",
              "  <button class=\"colab-df-quickchart\" onclick=\"quickchart('df-ca7d7993-a84e-46cc-9a0a-640a02b7935e')\"\n",
              "            title=\"Suggest charts\"\n",
              "            style=\"display:none;\">\n",
              "\n",
              "<svg xmlns=\"http://www.w3.org/2000/svg\" height=\"24px\"viewBox=\"0 0 24 24\"\n",
              "     width=\"24px\">\n",
              "    <g>\n",
              "        <path d=\"M19 3H5c-1.1 0-2 .9-2 2v14c0 1.1.9 2 2 2h14c1.1 0 2-.9 2-2V5c0-1.1-.9-2-2-2zM9 17H7v-7h2v7zm4 0h-2V7h2v10zm4 0h-2v-4h2v4z\"/>\n",
              "    </g>\n",
              "</svg>\n",
              "  </button>\n",
              "\n",
              "<style>\n",
              "  .colab-df-quickchart {\n",
              "      --bg-color: #E8F0FE;\n",
              "      --fill-color: #1967D2;\n",
              "      --hover-bg-color: #E2EBFA;\n",
              "      --hover-fill-color: #174EA6;\n",
              "      --disabled-fill-color: #AAA;\n",
              "      --disabled-bg-color: #DDD;\n",
              "  }\n",
              "\n",
              "  [theme=dark] .colab-df-quickchart {\n",
              "      --bg-color: #3B4455;\n",
              "      --fill-color: #D2E3FC;\n",
              "      --hover-bg-color: #434B5C;\n",
              "      --hover-fill-color: #FFFFFF;\n",
              "      --disabled-bg-color: #3B4455;\n",
              "      --disabled-fill-color: #666;\n",
              "  }\n",
              "\n",
              "  .colab-df-quickchart {\n",
              "    background-color: var(--bg-color);\n",
              "    border: none;\n",
              "    border-radius: 50%;\n",
              "    cursor: pointer;\n",
              "    display: none;\n",
              "    fill: var(--fill-color);\n",
              "    height: 32px;\n",
              "    padding: 0;\n",
              "    width: 32px;\n",
              "  }\n",
              "\n",
              "  .colab-df-quickchart:hover {\n",
              "    background-color: var(--hover-bg-color);\n",
              "    box-shadow: 0 1px 2px rgba(60, 64, 67, 0.3), 0 1px 3px 1px rgba(60, 64, 67, 0.15);\n",
              "    fill: var(--button-hover-fill-color);\n",
              "  }\n",
              "\n",
              "  .colab-df-quickchart-complete:disabled,\n",
              "  .colab-df-quickchart-complete:disabled:hover {\n",
              "    background-color: var(--disabled-bg-color);\n",
              "    fill: var(--disabled-fill-color);\n",
              "    box-shadow: none;\n",
              "  }\n",
              "\n",
              "  .colab-df-spinner {\n",
              "    border: 2px solid var(--fill-color);\n",
              "    border-color: transparent;\n",
              "    border-bottom-color: var(--fill-color);\n",
              "    animation:\n",
              "      spin 1s steps(1) infinite;\n",
              "  }\n",
              "\n",
              "  @keyframes spin {\n",
              "    0% {\n",
              "      border-color: transparent;\n",
              "      border-bottom-color: var(--fill-color);\n",
              "      border-left-color: var(--fill-color);\n",
              "    }\n",
              "    20% {\n",
              "      border-color: transparent;\n",
              "      border-left-color: var(--fill-color);\n",
              "      border-top-color: var(--fill-color);\n",
              "    }\n",
              "    30% {\n",
              "      border-color: transparent;\n",
              "      border-left-color: var(--fill-color);\n",
              "      border-top-color: var(--fill-color);\n",
              "      border-right-color: var(--fill-color);\n",
              "    }\n",
              "    40% {\n",
              "      border-color: transparent;\n",
              "      border-right-color: var(--fill-color);\n",
              "      border-top-color: var(--fill-color);\n",
              "    }\n",
              "    60% {\n",
              "      border-color: transparent;\n",
              "      border-right-color: var(--fill-color);\n",
              "    }\n",
              "    80% {\n",
              "      border-color: transparent;\n",
              "      border-right-color: var(--fill-color);\n",
              "      border-bottom-color: var(--fill-color);\n",
              "    }\n",
              "    90% {\n",
              "      border-color: transparent;\n",
              "      border-bottom-color: var(--fill-color);\n",
              "    }\n",
              "  }\n",
              "</style>\n",
              "\n",
              "  <script>\n",
              "    async function quickchart(key) {\n",
              "      const quickchartButtonEl =\n",
              "        document.querySelector('#' + key + ' button');\n",
              "      quickchartButtonEl.disabled = true;  // To prevent multiple clicks.\n",
              "      quickchartButtonEl.classList.add('colab-df-spinner');\n",
              "      try {\n",
              "        const charts = await google.colab.kernel.invokeFunction(\n",
              "            'suggestCharts', [key], {});\n",
              "      } catch (error) {\n",
              "        console.error('Error during call to suggestCharts:', error);\n",
              "      }\n",
              "      quickchartButtonEl.classList.remove('colab-df-spinner');\n",
              "      quickchartButtonEl.classList.add('colab-df-quickchart-complete');\n",
              "    }\n",
              "    (() => {\n",
              "      let quickchartButtonEl =\n",
              "        document.querySelector('#df-ca7d7993-a84e-46cc-9a0a-640a02b7935e button');\n",
              "      quickchartButtonEl.style.display =\n",
              "        google.colab.kernel.accessAllowed ? 'block' : 'none';\n",
              "    })();\n",
              "  </script>\n",
              "</div>\n",
              "    </div>\n",
              "  </div>\n"
            ],
            "application/vnd.google.colaboratory.intrinsic+json": {
              "type": "dataframe",
              "variable_name": "df",
              "summary": "{\n  \"name\": \"df\",\n  \"rows\": 3,\n  \"fields\": [\n    {\n      \"column\": \"Accuracy\",\n      \"properties\": {\n        \"dtype\": \"date\",\n        \"min\": 0.8520671834625323,\n        \"max\": 0.8706395348837209,\n        \"num_unique_values\": 3,\n        \"samples\": [\n          0.8706395348837209,\n          0.8662790697674418,\n          0.8520671834625323\n        ],\n        \"semantic_type\": \"\",\n        \"description\": \"\"\n      }\n    }\n  ]\n}"
            }
          },
          "metadata": {},
          "execution_count": 655
        }
      ]
    },
    {
      "cell_type": "markdown",
      "source": [
        "По результатам получилось, что качество с начальной моделью LogisticRegression, лучше всех оставшихся моделей. Однако начальная модель RandomForestClassifier, тоже побила скор начальной модели без ниициализации на обычных DecisionTreeRegressor()"
      ],
      "metadata": {
        "id": "mAM5wmdRb-0B"
      }
    },
    {
      "cell_type": "markdown",
      "metadata": {
        "id": "HixHO4ikp-FE"
      },
      "source": [
        "## Фидбек (бесценно)"
      ]
    },
    {
      "cell_type": "markdown",
      "metadata": {
        "id": "xUxnXQ9wp-FF"
      },
      "source": [
        "* Какие аспекты обучения  ансамблей Вам показались непонятными? Какое место стоит дополнительно объяснить?"
      ]
    },
    {
      "cell_type": "markdown",
      "source": [
        "Наиболее непонятно было, как сделать многоклассовую классификацию, потом пришлось прочитать статей и осознание пришло само собой. Но как мне кажется, лучше об этом рассказать на лекции или хотя бы где-то упомянуть в тетрадке."
      ],
      "metadata": {
        "id": "4eEGJwC0dRbW"
      }
    },
    {
      "cell_type": "markdown",
      "metadata": {
        "id": "DUo6Xespp-FF"
      },
      "source": [
        "### Ваш ответ здесь"
      ]
    },
    {
      "cell_type": "markdown",
      "metadata": {
        "id": "1vpN6Bkqp-FF"
      },
      "source": [
        "* Здесь Вы можете оставить отзыв о этой домашней работе или о всем курсе."
      ]
    },
    {
      "cell_type": "markdown",
      "source": [
        "Оч круто, жаль людей мало)"
      ],
      "metadata": {
        "id": "PGJsJCXVdh4z"
      }
    },
    {
      "cell_type": "markdown",
      "metadata": {
        "id": "OnAPgGDip-FF"
      },
      "source": [
        "### ВАШ ОТЗЫВ ЗДЕСЬ\n",
        "\n"
      ]
    },
    {
      "cell_type": "code",
      "execution_count": 655,
      "metadata": {
        "collapsed": true,
        "jupyter": {
          "outputs_hidden": true
        },
        "id": "eD9_TNKkp-FG"
      },
      "outputs": [],
      "source": []
    },
    {
      "cell_type": "code",
      "execution_count": 655,
      "metadata": {
        "collapsed": true,
        "jupyter": {
          "outputs_hidden": true
        },
        "id": "cFR6IteQp-FG"
      },
      "outputs": [],
      "source": []
    }
  ],
  "metadata": {
    "anaconda-cloud": {},
    "kernelspec": {
      "display_name": "Python 3",
      "name": "python3"
    },
    "language_info": {
      "codemirror_mode": {
        "name": "ipython",
        "version": 3
      },
      "file_extension": ".py",
      "mimetype": "text/x-python",
      "name": "python",
      "nbconvert_exporter": "python",
      "pygments_lexer": "ipython3",
      "version": "3.9.13"
    },
    "colab": {
      "provenance": []
    }
  },
  "nbformat": 4,
  "nbformat_minor": 0
}